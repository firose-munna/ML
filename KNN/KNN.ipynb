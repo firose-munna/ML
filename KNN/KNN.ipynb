{
 "cells": [
  {
   "cell_type": "code",
   "execution_count": 1,
   "id": "09f84a24",
   "metadata": {},
   "outputs": [],
   "source": [
    "from sklearn import preprocessing\n",
    "from sklearn.neighbors import KNeighborsClassifier"
   ]
  },
  {
   "cell_type": "code",
   "execution_count": 2,
   "id": "9937b4f0",
   "metadata": {},
   "outputs": [],
   "source": [
    "d = [7,7,3,1]\n",
    "s = [7,4,4,3]"
   ]
  },
  {
   "cell_type": "code",
   "execution_count": 3,
   "id": "96ce84ca",
   "metadata": {},
   "outputs": [],
   "source": [
    "r = [\"bad\", \"bad\", \"good\", \"good\"]"
   ]
  },
  {
   "cell_type": "code",
   "execution_count": 4,
   "id": "144e93cf",
   "metadata": {},
   "outputs": [],
   "source": [
    "encode = preprocessing.LabelEncoder()"
   ]
  },
  {
   "cell_type": "code",
   "execution_count": 5,
   "id": "5ae66a78",
   "metadata": {},
   "outputs": [],
   "source": [
    "er = encode.fit_transform(r)\n",
    "fvector = list(zip(d,s))"
   ]
  },
  {
   "cell_type": "code",
   "execution_count": 6,
   "id": "36cfe03a",
   "metadata": {},
   "outputs": [
    {
     "data": {
      "text/plain": [
       "[(7, 7), (7, 4), (3, 4), (1, 3)]"
      ]
     },
     "execution_count": 6,
     "metadata": {},
     "output_type": "execute_result"
    }
   ],
   "source": [
    "fvector\n"
   ]
  },
  {
   "cell_type": "code",
   "execution_count": 9,
   "id": "d5c1825e",
   "metadata": {},
   "outputs": [],
   "source": [
    "model = KNeighborsClassifier(n_neighbors = 3)"
   ]
  },
  {
   "cell_type": "code",
   "execution_count": 10,
   "id": "53f24d06",
   "metadata": {},
   "outputs": [],
   "source": [
    "model.fit(fvector, er)\n",
    "prediction = model.predict([[3,7]])"
   ]
  },
  {
   "cell_type": "code",
   "execution_count": 12,
   "id": "17a41331",
   "metadata": {},
   "outputs": [
    {
     "name": "stdout",
     "output_type": "stream",
     "text": [
      "[1]\n"
     ]
    }
   ],
   "source": [
    "print(prediction)"
   ]
  },
  {
   "cell_type": "code",
   "execution_count": null,
   "id": "3d6a72fc",
   "metadata": {},
   "outputs": [],
   "source": []
  }
 ],
 "metadata": {
  "kernelspec": {
   "display_name": "Python 3 (ipykernel)",
   "language": "python",
   "name": "python3"
  },
  "language_info": {
   "codemirror_mode": {
    "name": "ipython",
    "version": 3
   },
   "file_extension": ".py",
   "mimetype": "text/x-python",
   "name": "python",
   "nbconvert_exporter": "python",
   "pygments_lexer": "ipython3",
   "version": "3.10.9"
  }
 },
 "nbformat": 4,
 "nbformat_minor": 5
}
